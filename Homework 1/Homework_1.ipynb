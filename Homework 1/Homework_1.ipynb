{
 "cells": [
  {
   "cell_type": "markdown",
   "metadata": {},
   "source": [
    "### PHYS 4030 (Fall 2020) - HW 1\n",
    "\n",
    "---\n",
    "\n",
    "#### Due Date:  Sept. TBD, 2020 11:30 AM\n",
    "\n"
   ]
  },
  {
   "cell_type": "markdown",
   "metadata": {},
   "source": [
    "#### Questions"
   ]
  },
  {
   "cell_type": "markdown",
   "metadata": {},
   "source": [
    "1. Get EXhoResonanceE.m (and associated codes; available on course eClass website) up and running on your computer so to be able to generate a plot as shown below. Change the figure title so to have it include your name and submit that figure as a pdf. Note that you will likely have problems (e.g., missing a sub-routine); feel free to ask [CB] if you are having issues with code or [EH] issues w/ Jupyter.\n",
    "\n",
    "<img src=\"Images/resonance.jpg\" alt=\"drawing\" width=\"400\"/>\n",
    "\n",
    "Figure 1: Output figure from EXhoResonanceE.m."
   ]
  },
  {
   "cell_type": "markdown",
   "metadata": {},
   "source": [
    "#### Reading in Matlab"
   ]
  },
  {
   "cell_type": "markdown",
   "metadata": {},
   "source": [
    "How shall we run Matlab here in our jupyter notebook?\n",
    "\n",
    "#### First: import matlab (copy the below for all your future Matlab code)"
   ]
  },
  {
   "cell_type": "code",
   "execution_count": 19,
   "metadata": {},
   "outputs": [],
   "source": [
    "import matlab.engine\n",
    "import io\n",
    "from IPython.core.magic import register_cell_magic\n",
    "ip = get_ipython()\n",
    "\n",
    "out = io.StringIO()\n",
    "err = io.StringIO()\n",
    "\n",
    "# Setup matlab cell magic #\n",
    "@register_cell_magic\n",
    "def matlab_magic(line,cell):\n",
    "    out.truncate(0)\n",
    "    out.seek(0)\n",
    "    err.truncate(0)\n",
    "    err.truncate(0)\n",
    "    raw = '''{line}.eval(\"\"\"{cell}\"\"\", nargout=0, stdout=out, stderr=err)'''\n",
    "    ip.run_cell(raw.format(line=line, cell=cell))\n",
    "    print(out.getvalue())\n",
    "    print(err.getvalue())"
   ]
  },
  {
   "cell_type": "markdown",
   "metadata": {},
   "source": [
    "#### Second: activate Matlab in Python"
   ]
  },
  {
   "cell_type": "code",
   "execution_count": 20,
   "metadata": {},
   "outputs": [],
   "source": [
    "eng = matlab.engine.start_matlab()"
   ]
  },
  {
   "cell_type": "markdown",
   "metadata": {},
   "source": [
    "#### Third: Use Matlab magic as the first line in your matlab cell"
   ]
  },
  {
   "cell_type": "code",
   "execution_count": 21,
   "metadata": {},
   "outputs": [],
   "source": [
    "## %%matlab_magic eng"
   ]
  },
  {
   "cell_type": "markdown",
   "metadata": {},
   "source": [
    "#### Let's try it with Prof. Bergevin's file: EXregressAnscombe.m"
   ]
  },
  {
   "cell_type": "code",
   "execution_count": null,
   "metadata": {},
   "outputs": [],
   "source": []
  },
  {
   "cell_type": "code",
   "execution_count": 23,
   "metadata": {},
   "outputs": [
    {
     "name": "stdout",
     "output_type": "stream",
     "text": [
      "Set 1: best fit is y=0.50009x+3.0001 --> R^2=0.66654\n",
      "Set 2: best fit is y=0.5x+3.0009 --> R^2=0.66624\n",
      "Set 3: best fit is y=0.49973x+3.0025 --> R^2=0.66632\n",
      "Set 4: best fit is y=0.49991x+3.0017 --> R^2=0.66671\n",
      "\n",
      "\n"
     ]
    }
   ],
   "source": [
    "%%matlab_magic eng\n",
    "\n",
    "% ### EXregressAnscombe.m ###     2017.02.23 C.Bergevin\n",
    "\n",
    "% Code to reproduce Anscombe's quartet fits \n",
    "% (as per https://en.wikipedia.org/wiki/Anscombe's_quartet#/media/File:Anscombe%27s_quartet_3.svg\n",
    "\n",
    "% Notes\n",
    "% o Uses Matlab's built-in polyfit.m function (see also EXregressLinear1.m\n",
    "% if you wanted to do this manually)\n",
    "% o Values obtained from http://hywelowen.org/anscombes-quartet/\n",
    "% o First set of data (x1,y1) would be x1=A(:,1), y1=A(:,2). Similarly for\n",
    "% the others\n",
    "% o Ref: https://en.wikipedia.org/wiki/Anscombe's_quartet and\n",
    "% https://en.wikipedia.org/wiki/Coefficient_of_determination\n",
    "\n",
    "clear\n",
    "% =========================================================\n",
    "\n",
    "% --- specify the associated data\n",
    "A=[10 \t8.04 \t10 \t9.14 \t10 \t7.46 \t8 \t6.58;\n",
    "8 \t6.95 \t8 \t8.14 \t8 \t6.77 \t8 \t5.76;\n",
    "13 \t7.58 \t13 \t8.74 \t13 \t12.74 \t8 \t7.71;\n",
    "9 \t8.81 \t9 \t8.77 \t9 \t7.11 \t8 \t8.84;\n",
    "11 \t8.33 \t11 \t9.26 \t11 \t7.81 \t8 \t8.47;\n",
    "14 \t9.96 \t14 \t8.1 \t14 \t8.84 \t8 \t7.04;\n",
    "6 \t7.24 \t6 \t6.13 \t6 \t6.08 \t8 \t5.25;\n",
    "4 \t4.26 \t4 \t3.1 \t4 \t5.39 \t19 \t12.5;\n",
    "12 \t10.84 \t12 \t9.13 \t12 \t8.15 \t8 \t5.56;\n",
    "7 \t4.82 \t7 \t7.26 \t7 \t6.42 \t8 \t7.91;\n",
    "5 \t5.68 \t5 \t4.74 \t5 \t5.73 \t8 \t6.89];\n",
    "\n",
    "% --- loop through for each of the four data sets and do the analysis\n",
    "cnt= 1; figure(1); clf;\n",
    "for nn=1:4\n",
    "    tempX= A(:,cnt); tempY=A(:,cnt+1);  % extract relevant #s from A\n",
    "    [junk,indx]= sort(tempX);   % reorder (not necessary)\n",
    "    x= tempX(indx); y= tempY(indx);\n",
    "    p(nn,:)= polyfit(x,y,1);\n",
    "    f= p(nn,1)*x + p(nn,2);\n",
    "    % --- determine R (\"Coefficient of determination\")\n",
    "    yM= sum(y)/numel(y);\n",
    "    SStot= sum((y-yM).^2); SSreg= sum((f-yM).^2); SSres= sum((y-f).^2);\n",
    "    Rsquared= 1- SSres/SStot;\n",
    "    % --- visualize\n",
    "    subplot(2,2,nn); h= plot(x,y,'o','LineWidth',1); xlabel('x'); ylabel('y');\n",
    "    set(h(1),'MarkerEdgeColor','k','MarkerFaceColor',[1 .5 0]); hold on; grid on;\n",
    "    h2= plot(x,f,'b-');\n",
    "    % --- indicate best fit params\n",
    "    disp(['Set ',num2str(nn),': best fit is y=',num2str(p(nn,1)),'x+',num2str(p(nn,2)),...\n",
    "        ' --> R^2=',num2str(Rsquared)]);\n",
    "    cnt= cnt+2; % update indexer\n",
    "end\n"
   ]
  },
  {
   "cell_type": "markdown",
   "metadata": {},
   "source": [
    "#### Compare Python Anscombe"
   ]
  },
  {
   "cell_type": "code",
   "execution_count": 39,
   "metadata": {},
   "outputs": [
    {
     "name": "stdout",
     "output_type": "stream",
     "text": [
      "Index(['dataset', 'x', 'y'], dtype='object')\n",
      "Anscombe data set Number ['I' 'II' 'III' 'IV']\n",
      "  dataset     x     y\n",
      "0       I  10.0  8.04\n",
      "1       I   8.0  6.95\n",
      "2       I  13.0  7.58\n",
      "3       I   9.0  8.81\n",
      "4       I  11.0  8.33\n",
      "Set I stats                x          y\n",
      "count  11.000000  11.000000\n",
      "mean    9.000000   7.500909\n",
      "std     3.316625   2.031568\n",
      "min     4.000000   4.260000\n",
      "25%     6.500000   6.315000\n",
      "50%     9.000000   7.580000\n",
      "75%    11.500000   8.570000\n",
      "max    14.000000  10.840000\n",
      "Set II stats                x          y\n",
      "count  11.000000  11.000000\n",
      "mean    9.000000   7.500909\n",
      "std     3.316625   2.031657\n",
      "min     4.000000   3.100000\n",
      "25%     6.500000   6.695000\n",
      "50%     9.000000   8.140000\n",
      "75%    11.500000   8.950000\n",
      "max    14.000000   9.260000\n"
     ]
    },
    {
     "data": {
      "text/plain": [
       "<seaborn.axisgrid.FacetGrid at 0x1a1ecfc0b8>"
      ]
     },
     "execution_count": 39,
     "metadata": {},
     "output_type": "execute_result"
    },
    {
     "data": {
      "image/png": "[encoded data removed]",
      "text/plain": [
       "<Figure size 576x576 with 4 Axes>"
      ]
     },
     "metadata": {},
     "output_type": "display_data"
    }
   ],
   "source": [
    "#Code to reproduce Anscombe's quartet fits \n",
    "#(as per https://en.wikipedia.org/wiki/Anscombe's_quartet#/media/File:Anscombe%27s_quartet_3.svg\n",
    "\n",
    "import seaborn as sns\n",
    "sns.set_style(style=\"ticks\")\n",
    "\n",
    "# Load the example dataset for Anscombe's quartet\n",
    "df = sns.load_dataset(\"anscombe\")\n",
    "print(df.columns)\n",
    "print('Anscombe data set Number',df['dataset'].unique())\n",
    "print(df.head())\n",
    "print('Set I stats',df[df['dataset']=='I'].describe())\n",
    "print('Set II stats',df[df['dataset']=='II'].describe())\n",
    "\n",
    "# Show the results of a linear regression within each dataset\n",
    "sns.lmplot(x=\"x\", y=\"y\", col=\"dataset\", hue=\"dataset\", data=df,\n",
    "           col_wrap=2, ci=None, palette=\"muted\", height=4,\n",
    "           scatter_kws={\"s\": 50, \"alpha\": 1})"
   ]
  },
  {
   "cell_type": "markdown",
   "metadata": {},
   "source": [
    "2. This problem asks you to write a code related to motivate some basic data analysis topics (resampling, dithering, compressive sampling) via an image example. What you need to do is write a single code that does the following:\n",
    " * Read in and display a grayscale image of your choice (e.g., a cat in a box). Have the code specify the dimensions of the image (i.e., M × N ) and the total number of pixels (i.e., M N ).\n",
    " * Specifying a “scale factor” α (≥ 1), resample and plot the image using a regularly-spaced grid where the total number of points is reduced by a factor of 1/α2 (e.g., M → M/α).\n",
    " * Using that same α, resample and plot the image using randomly spaced sampling.\n",
    " * For one of the resampled images, add in some dithering (i.e., additive noise), where you can scale the intensity of the noise (call it some scale factor δF ) and plot.\n",
    " * Explore different values of α and δF , possibly for different images. Comment briefly as to whether grid-based or random resampling leads to a “better” sub-sampled image and whether dithering helps. Lastly, comment briefly on how you might improve your random resampling might be improved if you had some expectation as to what your image might look like (Hint: Google com- pressed sensing).\n",
    " \n",
    " Most images are RBG by default (i.e., M × N × 3). To create a grayscale image, you need to convert it to M × N × 1.\n",
    " \n",
    " Note that it might be helpful to allow one to invert the background, as well as keep the pixel intensities over a limited range (e.g., an “8-bit” image with intensities ∈ [0, 255]). Ultimately your code should produce a plot along the lines of what is shown below:\n",
    " \n",
    " <img src=\"Images/cat.jpg\" alt=\"drawing\" width=\"400\"/>\n",
    " \n",
    " Figure 2: Different ways to represent a cat in a box (or various probability distributions of such)."
   ]
  },
  {
   "cell_type": "markdown",
   "metadata": {},
   "source": [
    "#### Part 2, some fun with statistics"
   ]
  },
  {
   "cell_type": "markdown",
   "metadata": {},
   "source": [
    "3. Descriptive statistics check. For the random data below, do the following:\n",
    " * Find the mean, median and mode of the data given\n",
    " * Determine if this data is skewed or symetric\n",
    " * Describe the variance, range, and standard deviation\n",
    " * Compare to a 'real world' data set of your choice\n",
    " * Normalize with a z transform\n",
    " * Plot the distribution and discuss your results"
   ]
  },
  {
   "cell_type": "code",
   "execution_count": 5,
   "metadata": {},
   "outputs": [
    {
     "name": "stdout",
     "output_type": "stream",
     "text": [
      "[9, 8, 6, 24, 15, 23, 12, 30, 10, 9, 2, 11, 2, 23, 5]\n"
     ]
    }
   ],
   "source": [
    "# Descriptive Statistics\n",
    "# Note important libraries are always imported in the first cells\n",
    "import numpy as np\n",
    "import random\n",
    "from scipy import stats\n",
    "import pandas as pd\n",
    "import seaborn as sns\n",
    "\n",
    "randomlist = []\n",
    "for i in range(0,15):\n",
    "    n = random.randint(1,30)\n",
    "    randomlist.append(n)\n",
    "print(randomlist)\n"
   ]
  },
  {
   "cell_type": "code",
   "execution_count": null,
   "metadata": {},
   "outputs": [],
   "source": []
  },
  {
   "cell_type": "code",
   "execution_count": null,
   "metadata": {},
   "outputs": [],
   "source": []
  }
 ],
 "metadata": {
  "kernelspec": {
   "display_name": "Python 3",
   "language": "python",
   "name": "python3"
  },
  "language_info": {
   "codemirror_mode": {
    "name": "ipython",
    "version": 3
   },
   "file_extension": ".py",
   "mimetype": "text/x-python",
   "name": "python",
   "nbconvert_exporter": "python",
   "pygments_lexer": "ipython3",
   "version": "3.7.6"
  }
 },
 "nbformat": 4,
 "nbformat_minor": 4
}
